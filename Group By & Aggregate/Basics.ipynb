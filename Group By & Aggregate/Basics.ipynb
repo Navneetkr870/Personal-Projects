{
 "cells": [
  {
   "cell_type": "markdown",
   "metadata": {},
   "source": [
    "# Exploring Group By and Aggregate functions using Pandas\n",
    "\n",
    "-----\n"
   ]
  },
  {
   "cell_type": "markdown",
   "metadata": {},
   "source": [
    "## 1. Introduction\n",
    "\n",
    "SQL groupby is probably the most popular feature for data transformation and it helps to be able to replicate the same form of data manipulation techniques using python for designing more advance data science systems. As a result, its important to understand the basic components of a groupby clause.\n",
    "\n",
    "- Select - Is the list of aggregated features that the analyst is interested in\n",
    "- From - Source of the data\n",
    "- Group By - Feature(s) whose distinct values will be the basis of the grouping of selected aggregate features\n",
    "- Where - Any additional conditions that need to be checked on the raw data, before grouping up the data\n",
    "- Having - Any additional conditions that need to be checked on OUTPUT of the group by query, before displaying it\n",
    "\n",
    "Keeping these concepts in mind, the Pandas groupby method will be explored in detail below."
   ]
  },
  {
   "cell_type": "code",
   "execution_count": null,
   "metadata": {},
   "outputs": [],
   "source": []
  }
 ],
 "metadata": {
  "kernelspec": {
   "display_name": "Python 3",
   "language": "python",
   "name": "python3"
  },
  "language_info": {
   "codemirror_mode": {
    "name": "ipython",
    "version": 3
   },
   "file_extension": ".py",
   "mimetype": "text/x-python",
   "name": "python",
   "nbconvert_exporter": "python",
   "pygments_lexer": "ipython3",
   "version": "3.7.3"
  }
 },
 "nbformat": 4,
 "nbformat_minor": 2
}
